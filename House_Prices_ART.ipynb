{
  "nbformat": 4,
  "nbformat_minor": 0,
  "metadata": {
    "colab": {
      "name": "House_Prices_ART.ipynb",
      "private_outputs": true,
      "provenance": [],
      "authorship_tag": "ABX9TyOj7RX1fJHKe83p1j1xme4x",
      "include_colab_link": true
    },
    "kernelspec": {
      "name": "python3",
      "display_name": "Python 3"
    },
    "language_info": {
      "name": "python"
    }
  },
  "cells": [
    {
      "cell_type": "markdown",
      "metadata": {
        "id": "view-in-github",
        "colab_type": "text"
      },
      "source": [
        "<a href=\"https://colab.research.google.com/github/anik199/House_Prices_Advanced_Regression/blob/main/House_Prices_ART.ipynb\" target=\"_parent\"><img src=\"https://colab.research.google.com/assets/colab-badge.svg\" alt=\"Open In Colab\"/></a>"
      ]
    },
    {
      "cell_type": "markdown",
      "metadata": {
        "id": "RI1o3oRl50zH"
      },
      "source": [
        "## Step:1"
      ]
    },
    {
      "cell_type": "code",
      "metadata": {
        "id": "g8AZBXck4m8v"
      },
      "source": [
        "import pandas as pd\n",
        "import numpy as np\n",
        "from sklearn.model_selection import train_test_split\n",
        "\n",
        "# Read the data\n",
        "X_full = pd.read_csv('/content/train.csv', index_col='Id')\n",
        "X_test_full = pd.read_csv('/content/test.csv', index_col='Id')\n",
        "\n",
        "# Remove rows with missing target, separate target from predictors\n",
        "X_full.dropna(axis=0, subset=['SalePrice'], inplace=True)\n",
        "y = X_full.SalePrice\n",
        "X_full.drop(['SalePrice'], axis=1, inplace=True)\n",
        "\n",
        "# Break off validation set from training data\n",
        "X_train_full, X_valid_full, y_train, y_valid = train_test_split(X_full, y, \n",
        "                                                                train_size=0.8, test_size=0.2,\n",
        "                                                                random_state=0)\n",
        "\n",
        "# \"Cardinality\" means the number of unique values in a column\n",
        "# Select categorical columns with relatively low cardinality (convenient but arbitrary)\n",
        "categorical_cols = [cname for cname in X_train_full.columns if\n",
        "                    X_train_full[cname].nunique() < 20 and \n",
        "                    X_train_full[cname].dtype == \"object\"]\n",
        "\n",
        "# Select numerical columns\n",
        "numerical_cols = [cname for cname in X_train_full.columns if \n",
        "                X_train_full[cname].dtype in ['int64', 'float64']]\n",
        "\n",
        "# Keep selected columns only\n",
        "my_cols = categorical_cols + numerical_cols\n",
        "X_train = X_train_full[my_cols].copy()\n",
        "X_valid = X_valid_full[my_cols].copy()\n",
        "X_test = X_test_full[my_cols].copy()"
      ],
      "execution_count": null,
      "outputs": []
    },
    {
      "cell_type": "markdown",
      "metadata": {
        "id": "VKUsD6bz5rM5"
      },
      "source": [
        "## Step:2"
      ]
    },
    {
      "cell_type": "code",
      "metadata": {
        "id": "SoOfAczZ5bmI"
      },
      "source": [
        "from sklearn.compose import ColumnTransformer\n",
        "from sklearn.pipeline import Pipeline\n",
        "from sklearn.impute import SimpleImputer\n",
        "from sklearn.preprocessing import OneHotEncoder\n",
        "from sklearn.ensemble import RandomForestRegressor\n",
        "from sklearn.metrics import mean_squared_error\n",
        "from sklearn.ensemble import GradientBoostingRegressor\n",
        "from sklearn.ensemble import StackingRegressor\n",
        "from xgboost import XGBRegressor\n",
        "from lightgbm import LGBMRegressor\n",
        "from sklearn.linear_model import Lasso\n",
        "\n",
        "# Preprocessing for numerical data\n",
        "numerical_transformer = SimpleImputer(strategy='constant')\n",
        "\n",
        "# Preprocessing for categorical data\n",
        "categorical_transformer = Pipeline(steps=[\n",
        "    ('imputer', SimpleImputer(strategy='most_frequent')),\n",
        "    ('onehot', OneHotEncoder(handle_unknown='ignore'))\n",
        "])\n",
        "\n",
        "# Bundle preprocessing for numerical and categorical data\n",
        "preprocessor = ColumnTransformer(\n",
        "    transformers=[\n",
        "        ('num', numerical_transformer, numerical_cols),\n",
        "        ('cat', categorical_transformer, categorical_cols)\n",
        "    ])"
      ],
      "execution_count": null,
      "outputs": []
    },
    {
      "cell_type": "markdown",
      "metadata": {
        "id": "6MeFzNVg6Ahs"
      },
      "source": [
        "## Step:3\n"
      ]
    },
    {
      "cell_type": "markdown",
      "metadata": {
        "id": "O1_tq7JbtxcV"
      },
      "source": [
        "##Model:0"
      ]
    },
    {
      "cell_type": "code",
      "metadata": {
        "id": "TlYf_ucluX0W"
      },
      "source": [
        "pip install catboost"
      ],
      "execution_count": null,
      "outputs": []
    },
    {
      "cell_type": "code",
      "metadata": {
        "id": "Sw0ZbEDUst1Y"
      },
      "source": [
        "from catboost import CatBoostRegressor\n",
        "# Define the model\n",
        "my_model_0 = CatBoostRegressor()\n",
        "\n",
        "# Bundle preprocessing and modeling code in a pipeline\n",
        "my_pipeline = Pipeline(steps=[('preprocessor', preprocessor),\n",
        "                              ('model', my_model_0)\n",
        "                             ])\n",
        "                                    \n",
        "\n",
        "# Fit the model\n",
        "my_model_0=my_pipeline.fit(X_train, y_train)\n",
        "\n",
        "# Get predictions\n",
        "predictions_0 = my_pipeline.predict(X_valid)\n",
        "\n",
        "# Calculate MAE\n",
        "mse_0 = mean_squared_error(predictions_0, y_valid)\n",
        "print(\"RMSE:\" , mse_0)\n",
        "\n",
        "# Run prediction on the Kaggle test set.\n",
        "preds_test_0 = my_pipeline.predict(X_test)"
      ],
      "execution_count": null,
      "outputs": []
    },
    {
      "cell_type": "markdown",
      "metadata": {
        "id": "ccM9Z1aEBkyz"
      },
      "source": [
        "### Model:1"
      ]
    },
    {
      "cell_type": "code",
      "metadata": {
        "id": "K77K88Vc6Gjs"
      },
      "source": [
        "# I found this best alpha through cross-validation.\n",
        "best_alpha = 350\n",
        "# Define the model\n",
        "my_model_1= Lasso(alpha=best_alpha, max_iter=50000)\n",
        "\n",
        "# Bundle preprocessing and modeling code in a pipeline\n",
        "my_pipeline = Pipeline(steps=[('preprocessor', preprocessor),\n",
        "                              ('model', my_model_1)\n",
        "                             ])\n",
        "\n",
        "# Fit the model\n",
        "my_model_1=my_pipeline.fit(X_train, y_train)\n",
        "\n",
        "# Get predictions\n",
        "predictions_1 = my_pipeline.predict(X_valid)\n",
        "\n",
        "# Calculate MAE\n",
        "mse_1 = mean_squared_error(predictions_1, y_valid)\n",
        "print(\"RMSE:\" , mse_1)\n",
        "\n",
        "# Run prediction on the Kaggle test set.\n",
        "preds_test_1 = my_pipeline.predict(X_test)"
      ],
      "execution_count": null,
      "outputs": []
    },
    {
      "cell_type": "markdown",
      "metadata": {
        "id": "UDrp3ZCR6hxC"
      },
      "source": [
        "### Model:2"
      ]
    },
    {
      "cell_type": "code",
      "metadata": {
        "id": "godMOW-76lYd"
      },
      "source": [
        "# Define the model\n",
        "my_model_2 = XGBRegressor(learning_rate=0.01, n_estimators=3460,\n",
        "                                     max_depth=3, min_child_weight=0, gamma=0, subsample=0.7,\n",
        "                                     colsample_bytree=0.7,\n",
        "                                     objective='reg:linear', nthread=-1,\n",
        "                                     scale_pos_weight=1, seed=27,\n",
        "                                     reg_alpha=0.00006)\n",
        "\n",
        "# Bundle preprocessing and modeling code in a pipeline\n",
        "my_pipeline = Pipeline(steps=[('preprocessor', preprocessor),\n",
        "                              ('model', my_model_2)\n",
        "                             ])\n",
        "                                    \n",
        "\n",
        "# Fit the model\n",
        "my_model_2=my_pipeline.fit(X_train, y_train)\n",
        "\n",
        "# Get predictions\n",
        "predictions_2 = my_pipeline.predict(X_valid)\n",
        "\n",
        "# Calculate MAE\n",
        "mse_2 = mean_squared_error(predictions_2, y_valid)\n",
        "print(\"RMSE:\" , mse_2)\n",
        "\n",
        "# Run prediction on the Kaggle test set.\n",
        "preds_test_2 = my_pipeline.predict(X_test)"
      ],
      "execution_count": null,
      "outputs": []
    },
    {
      "cell_type": "markdown",
      "metadata": {
        "id": "5kdzw82Q6sTG"
      },
      "source": [
        "### Model:3"
      ]
    },
    {
      "cell_type": "code",
      "metadata": {
        "id": "Tx4kKFme6u-G"
      },
      "source": [
        "# Define the model\n",
        "my_model_3 = LGBMRegressor(objective='regression', \n",
        "                                       num_leaves=4,\n",
        "                                       learning_rate=0.01, \n",
        "                                       n_estimators=5000,\n",
        "                                       max_bin=200, \n",
        "                                       bagging_fraction=0.75,\n",
        "                                       bagging_freq=5, \n",
        "                                       bagging_seed=7,\n",
        "                                       feature_fraction=0.2,\n",
        "                                       feature_fraction_seed=7,\n",
        "                                       verbose=-1,\n",
        "                                       )\n",
        "# Bundle preprocessing and modeling code in a pipeline\n",
        "my_pipeline = Pipeline(steps=[('preprocessor', preprocessor),\n",
        "                              ('model', my_model_3)\n",
        "                             ])\n",
        "\n",
        "# Fit the model\n",
        "my_model_3=my_pipeline.fit(X_train, y_train)\n",
        "\n",
        "# Get predictions\n",
        "predictions_3 = my_pipeline.predict(X_valid)\n",
        "\n",
        "# Calculate MAE\n",
        "mse_3 = mean_squared_error(predictions_3, y_valid)\n",
        "print(\"RMSE:\" , mse_3)\n",
        "\n",
        "# Run prediction on the Kaggle test set.\n",
        "preds_test_3 = my_pipeline.predict(X_test)"
      ],
      "execution_count": null,
      "outputs": []
    },
    {
      "cell_type": "markdown",
      "metadata": {
        "id": "vRKur44k65s9"
      },
      "source": [
        "### Model:4"
      ]
    },
    {
      "cell_type": "code",
      "metadata": {
        "id": "Pe0zhPXV66VS"
      },
      "source": [
        "# Define the model\n",
        "my_model_4 = GradientBoostingRegressor(n_estimators=10000, learning_rate=0.05, \n",
        "                                       max_depth=4, max_features='sqrt', \n",
        "                                       min_samples_leaf=15, min_samples_split=10, \n",
        "                                       loss='huber', random_state =0) \n",
        "\n",
        "\n",
        "# Bundle preprocessing and modeling code in a pipeline\n",
        "my_pipeline = Pipeline(steps=[('preprocessor', preprocessor),\n",
        "                              ('model', my_model_4)\n",
        "                             ])\n",
        "                                \n",
        "\n",
        "\n",
        "    \n",
        "# Fit the model\n",
        "my_model_4=my_pipeline.fit(X_train, y_train)\n",
        "\n",
        "# Get predictions\n",
        "predictions_4 = my_pipeline.predict(X_valid)\n",
        "\n",
        "# Calculate MAE\n",
        "mse_4 = mean_squared_error(predictions_4, y_valid)\n",
        "print(\"RMSE:\" , mse_4)\n",
        "\n",
        "# Run prediction on the Kaggle test set.\n",
        "preds_test_4= my_pipeline.predict(X_test)"
      ],
      "execution_count": null,
      "outputs": []
    },
    {
      "cell_type": "markdown",
      "metadata": {
        "id": "rGpjeGvR7PJk"
      },
      "source": [
        "### Predictions"
      ]
    },
    {
      "cell_type": "code",
      "metadata": {
        "id": "z2bsaMi27OQf"
      },
      "source": [
        "# Combined Best Models Average\n",
        "preds_test= (preds_test_0 + preds_test_2 + preds_test_3) / 3\n",
        "preds_test= my_pipeline.predict(X_test)"
      ],
      "execution_count": null,
      "outputs": []
    },
    {
      "cell_type": "markdown",
      "metadata": {
        "id": "pE_oP81l7YRq"
      },
      "source": [
        "### Make Prediction Dataframe"
      ]
    },
    {
      "cell_type": "code",
      "metadata": {
        "id": "nUTwV4sQ7gZo"
      },
      "source": [
        "# Save test predictions to file\n",
        "output = pd.DataFrame({'Id': X_test.index,\n",
        "                       'SalePrice': preds_test})\n",
        "output.to_csv('submission.csv', index=False)"
      ],
      "execution_count": null,
      "outputs": []
    }
  ]
}