{
  "nbformat": 4,
  "nbformat_minor": 5,
  "metadata": {
    "kernelspec": {
      "display_name": "Python 3",
      "language": "python",
      "name": "python3"
    },
    "language_info": {
      "codemirror_mode": {
        "name": "ipython",
        "version": 3
      },
      "file_extension": ".py",
      "mimetype": "text/x-python",
      "name": "python",
      "nbconvert_exporter": "python",
      "pygments_lexer": "ipython3",
      "version": "3.7.10"
    },
    "papermill": {
      "default_parameters": {},
      "duration": 40.418583,
      "end_time": "2021-11-05T21:34:34.245019",
      "environment_variables": {},
      "exception": null,
      "input_path": "__notebook__.ipynb",
      "output_path": "__notebook__.ipynb",
      "parameters": {},
      "start_time": "2021-11-05T21:33:53.826436",
      "version": "2.3.3"
    },
    "colab": {
      "name": "A_brief_overview_of_house_prices_catboost.ipynb",
      "provenance": [],
      "include_colab_link": true
    }
  },
  "cells": [
    {
      "cell_type": "markdown",
      "metadata": {
        "id": "view-in-github",
        "colab_type": "text"
      },
      "source": [
        "<a href=\"https://colab.research.google.com/github/anik199/House_Prices_Advanced_Regression/blob/main/A_brief_overview_of_house_prices_catboost.ipynb\" target=\"_parent\"><img src=\"https://colab.research.google.com/assets/colab-badge.svg\" alt=\"Open In Colab\"/></a>"
      ]
    },
    {
      "cell_type": "markdown",
      "metadata": {
        "papermill": {
          "duration": 0.027302,
          "end_time": "2021-11-05T21:34:06.515561",
          "exception": false,
          "start_time": "2021-11-05T21:34:06.488259",
          "status": "completed"
        },
        "tags": [],
        "id": "98f35793"
      },
      "source": [
        "# Load Competition Dataset"
      ],
      "id": "98f35793"
    },
    {
      "cell_type": "code",
      "metadata": {
        "execution": {
          "iopub.execute_input": "2021-11-05T21:34:06.614993Z",
          "iopub.status.busy": "2021-11-05T21:34:06.613030Z",
          "iopub.status.idle": "2021-11-05T21:34:06.632337Z",
          "shell.execute_reply": "2021-11-05T21:34:06.633026Z"
        },
        "papermill": {
          "duration": 0.048318,
          "end_time": "2021-11-05T21:34:06.633413",
          "exception": false,
          "start_time": "2021-11-05T21:34:06.585095",
          "status": "completed"
        },
        "tags": [],
        "id": "1f8c837e"
      },
      "source": [
        "import numpy as np # linear algebra\n",
        "import pandas as pd # data processing, CSV file I/O (e.g. pd.read_csv)\n",
        "import os\n"
      ],
      "id": "1f8c837e",
      "execution_count": 1,
      "outputs": []
    },
    {
      "cell_type": "code",
      "metadata": {
        "id": "ZSNViN1uj6hr"
      },
      "source": [
        "# load dataset \n",
        "df_train = pd.read_csv('/content/train.csv')  \n",
        "\n",
        "df_test = pd.read_csv('/content/test.csv')"
      ],
      "id": "ZSNViN1uj6hr",
      "execution_count": 2,
      "outputs": []
    },
    {
      "cell_type": "code",
      "metadata": {
        "execution": {
          "iopub.execute_input": "2021-11-05T21:34:06.793393Z",
          "iopub.status.busy": "2021-11-05T21:34:06.792228Z",
          "iopub.status.idle": "2021-11-05T21:34:24.405043Z",
          "shell.execute_reply": "2021-11-05T21:34:24.404006Z"
        },
        "papermill": {
          "duration": 17.64231,
          "end_time": "2021-11-05T21:34:24.405237",
          "exception": false,
          "start_time": "2021-11-05T21:34:06.762927",
          "status": "completed"
        },
        "tags": [],
        "id": "1560aabb"
      },
      "source": [
        "#Environment Prepration\n",
        "import sys\n",
        "#you may update the environment that allow you to run the whole code\n",
        "!{sys.executable} -m pip install --upgrade scikit-learn==\"0.24.2\""
      ],
      "id": "1560aabb",
      "execution_count": null,
      "outputs": []
    },
    {
      "cell_type": "code",
      "metadata": {
        "execution": {
          "iopub.execute_input": "2021-11-05T21:34:24.489364Z",
          "iopub.status.busy": "2021-11-05T21:34:24.488462Z",
          "iopub.status.idle": "2021-11-05T21:34:25.604784Z",
          "shell.execute_reply": "2021-11-05T21:34:25.604020Z"
        },
        "papermill": {
          "duration": 1.16308,
          "end_time": "2021-11-05T21:34:25.604964",
          "exception": false,
          "start_time": "2021-11-05T21:34:24.441884",
          "status": "completed"
        },
        "tags": [],
        "id": "412ec7e9"
      },
      "source": [
        "#record this information if you need to run the Kernel internally\n",
        "import sklearn; sklearn.show_versions() "
      ],
      "id": "412ec7e9",
      "execution_count": null,
      "outputs": []
    },
    {
      "cell_type": "markdown",
      "metadata": {
        "papermill": {
          "duration": 0.033852,
          "end_time": "2021-11-05T21:34:25.742467",
          "exception": false,
          "start_time": "2021-11-05T21:34:25.708615",
          "status": "completed"
        },
        "tags": [],
        "id": "7cb23f5e"
      },
      "source": [
        "# Input Dataset"
      ],
      "id": "7cb23f5e"
    },
    {
      "cell_type": "code",
      "metadata": {
        "execution": {
          "iopub.execute_input": "2021-11-05T21:34:26.021412Z",
          "iopub.status.busy": "2021-11-05T21:34:26.020629Z",
          "iopub.status.idle": "2021-11-05T21:34:26.023588Z",
          "shell.execute_reply": "2021-11-05T21:34:26.024191Z"
        },
        "papermill": {
          "duration": 0.049929,
          "end_time": "2021-11-05T21:34:26.024421",
          "exception": false,
          "start_time": "2021-11-05T21:34:25.974492",
          "status": "completed"
        },
        "tags": [],
        "id": "304033f1"
      },
      "source": [
        "# STORE SUBMISSION RELEVANT COLUMNS\n",
        "test_df_submission_columns =df_test['Id']"
      ],
      "id": "304033f1",
      "execution_count": 5,
      "outputs": []
    },
    {
      "cell_type": "code",
      "metadata": {
        "execution": {
          "iopub.execute_input": "2021-11-05T21:34:26.100741Z",
          "iopub.status.busy": "2021-11-05T21:34:26.099980Z",
          "iopub.status.idle": "2021-11-05T21:34:26.113960Z",
          "shell.execute_reply": "2021-11-05T21:34:26.114543Z"
        },
        "papermill": {
          "duration": 0.054699,
          "end_time": "2021-11-05T21:34:26.114750",
          "exception": false,
          "start_time": "2021-11-05T21:34:26.060051",
          "status": "completed"
        },
        "tags": [],
        "id": "52d6e51d"
      },
      "source": [
        "# DISCARD IRRELEVANT COLUMNS\n",
        "df_train.drop(['Id'], axis=1, inplace=True)\n",
        "df_test.drop(['Id'], axis=1, inplace=True)"
      ],
      "id": "52d6e51d",
      "execution_count": 6,
      "outputs": []
    },
    {
      "cell_type": "markdown",
      "metadata": {
        "papermill": {
          "duration": 0.03551,
          "end_time": "2021-11-05T21:34:26.187397",
          "exception": false,
          "start_time": "2021-11-05T21:34:26.151887",
          "status": "completed"
        },
        "tags": [],
        "id": "e941113b"
      },
      "source": [
        "## Remove Missing Data in Numerical Columns"
      ],
      "id": "e941113b"
    },
    {
      "cell_type": "markdown",
      "metadata": {
        "papermill": {
          "duration": 0.037272,
          "end_time": "2021-11-05T21:34:26.260889",
          "exception": false,
          "start_time": "2021-11-05T21:34:26.223617",
          "status": "completed"
        },
        "tags": [],
        "id": "4516285a"
      },
      "source": [
        "In the given input dataset there are <b>37 columns </b> with  missing data as follows:"
      ],
      "id": "4516285a"
    },
    {
      "cell_type": "markdown",
      "metadata": {
        "papermill": {
          "duration": 0.035072,
          "end_time": "2021-11-05T21:34:26.406041",
          "exception": false,
          "start_time": "2021-11-05T21:34:26.370969",
          "status": "completed"
        },
        "tags": [],
        "id": "8f9542b9"
      },
      "source": [
        "The following code removes the missing values from those columns. We use average value (median) of each column to replace the null values."
      ],
      "id": "8f9542b9"
    },
    {
      "cell_type": "code",
      "metadata": {
        "id": "YaSd8MwhlxuW"
      },
      "source": [
        "from sklearn.impute import SimpleImputer"
      ],
      "id": "YaSd8MwhlxuW",
      "execution_count": 7,
      "outputs": []
    },
    {
      "cell_type": "code",
      "metadata": {
        "execution": {
          "iopub.execute_input": "2021-11-05T21:34:26.482278Z",
          "iopub.status.busy": "2021-11-05T21:34:26.481468Z",
          "iopub.status.idle": "2021-11-05T21:34:26.810490Z",
          "shell.execute_reply": "2021-11-05T21:34:26.809844Z"
        },
        "papermill": {
          "duration": 0.368967,
          "end_time": "2021-11-05T21:34:26.810670",
          "exception": false,
          "start_time": "2021-11-05T21:34:26.441703",
          "status": "completed"
        },
        "tags": [],
        "id": "357717c4"
      },
      "source": [
        "# PREPROCESSING-1\n",
        "_NUMERIC_COLS_WITH_MISSING_VALUES = ['MSSubClass', 'BsmtFinSF2', 'Fireplaces', 'FullBath', 'LotArea', 'GarageYrBlt', 'GarageCars', 'BsmtHalfBath', 'BsmtFinSF1', 'OverallCond', 'MiscVal', 'TotRmsAbvGrd', 'YrSold', 'KitchenAbvGr', 'HalfBath', 'YearBuilt', '1stFlrSF', 'GarageArea', 'MoSold', 'LotFrontage', 'BsmtFullBath', 'YearRemodAdd', 'ScreenPorch', 'WoodDeckSF', 'GrLivArea', 'SalePrice', 'OpenPorchSF', 'BedroomAbvGr', '3SsnPorch', 'BsmtUnfSF', 'EnclosedPorch', 'PoolArea', 'LowQualFinSF', 'MasVnrArea', '2ndFlrSF', 'OverallQual', 'TotalBsmtSF']\n",
        "for _col in _NUMERIC_COLS_WITH_MISSING_VALUES:\n",
        "    __simple_imputer = SimpleImputer(missing_values=np.nan, strategy='mean')\n",
        "    df_train[_col] = __simple_imputer.fit_transform(df_train[_col].values.reshape(-1,1))[:,0]\n",
        "    if _col in df_test:\n",
        "        df_test[_col] = __simple_imputer.transform(df_test[_col].astype(df_train[_col].dtypes).values.reshape(-1,1))[:,0]"
      ],
      "id": "357717c4",
      "execution_count": 8,
      "outputs": []
    },
    {
      "cell_type": "markdown",
      "metadata": {
        "papermill": {
          "duration": 0.037878,
          "end_time": "2021-11-05T21:34:26.883890",
          "exception": false,
          "start_time": "2021-11-05T21:34:26.846012",
          "status": "completed"
        },
        "tags": [],
        "id": "c0227ed5"
      },
      "source": [
        "## Remove Missing data in Categorical Columns"
      ],
      "id": "c0227ed5"
    },
    {
      "cell_type": "markdown",
      "metadata": {
        "papermill": {
          "duration": 0.037391,
          "end_time": "2021-11-05T21:34:26.961043",
          "exception": false,
          "start_time": "2021-11-05T21:34:26.923652",
          "status": "completed"
        },
        "tags": [],
        "id": "6917e850"
      },
      "source": [
        "In the given input dataset there are <b>43 columns </b> with  missing data as follows:"
      ],
      "id": "6917e850"
    },
    {
      "cell_type": "markdown",
      "metadata": {
        "papermill": {
          "duration": 0.038456,
          "end_time": "2021-11-05T21:34:27.112450",
          "exception": false,
          "start_time": "2021-11-05T21:34:27.073994",
          "status": "completed"
        },
        "tags": [],
        "id": "3069c2be"
      },
      "source": [
        "The following code removes the missing values."
      ],
      "id": "3069c2be"
    },
    {
      "cell_type": "code",
      "metadata": {
        "execution": {
          "iopub.execute_input": "2021-11-05T21:34:27.200067Z",
          "iopub.status.busy": "2021-11-05T21:34:27.199232Z",
          "iopub.status.idle": "2021-11-05T21:34:27.269511Z",
          "shell.execute_reply": "2021-11-05T21:34:27.270132Z"
        },
        "papermill": {
          "duration": 0.118967,
          "end_time": "2021-11-05T21:34:27.270380",
          "exception": false,
          "start_time": "2021-11-05T21:34:27.151413",
          "status": "completed"
        },
        "tags": [],
        "id": "17364003"
      },
      "source": [
        "# PREPROCESSING-2\n",
        "_STRING_COLS_WITH_MISSING_VALUES = ['Condition2', 'Fence', 'LandSlope', 'GarageCond', 'BsmtExposure', 'LotConfig', 'HeatingQC', 'SaleCondition', 'MSZoning', 'Alley', 'Exterior1st', 'Exterior2nd', 'Heating', 'HouseStyle', 'Utilities', 'BsmtCond', 'SaleType', 'BldgType', 'FireplaceQu', 'Street', 'BsmtFinType2', 'ExterQual', 'ExterCond', 'BsmtFinType1', 'Functional', 'GarageQual', 'CentralAir', 'LandContour', 'LotShape', 'GarageFinish', 'PoolQC', 'Foundation', 'RoofMatl', 'Neighborhood', 'GarageType', 'PavedDrive', 'KitchenQual', 'Condition1', 'Electrical', 'MiscFeature', 'MasVnrType', 'BsmtQual', 'RoofStyle']\n",
        "for _col in _STRING_COLS_WITH_MISSING_VALUES:\n",
        "    __simple_imputer = SimpleImputer(missing_values=np.nan, strategy='most_frequent')\n",
        "    df_train[_col] = __simple_imputer.fit_transform(df_train[_col].values.reshape(-1,1))[:,0]\n",
        "    if _col in df_test:\n",
        "        df_test[_col] = __simple_imputer.transform(df_test[_col].astype(df_train[_col].dtypes).values.reshape(-1,1))[:,0]"
      ],
      "id": "17364003",
      "execution_count": 9,
      "outputs": []
    },
    {
      "cell_type": "markdown",
      "metadata": {
        "papermill": {
          "duration": 0.036488,
          "end_time": "2021-11-05T21:34:27.343199",
          "exception": false,
          "start_time": "2021-11-05T21:34:27.306711",
          "status": "completed"
        },
        "tags": [],
        "id": "5f5fd761"
      },
      "source": [
        "## Encode categorical features\n",
        "Encode categorical features as an integer array."
      ],
      "id": "5f5fd761"
    },
    {
      "cell_type": "markdown",
      "metadata": {
        "papermill": {
          "duration": 0.036655,
          "end_time": "2021-11-05T21:34:27.417104",
          "exception": false,
          "start_time": "2021-11-05T21:34:27.380449",
          "status": "completed"
        },
        "tags": [],
        "id": "3df8b838"
      },
      "source": [
        "In the given input dataset there are <b>43 columns </b> with string values as follows:"
      ],
      "id": "3df8b838"
    },
    {
      "cell_type": "markdown",
      "metadata": {
        "papermill": {
          "duration": 0.035702,
          "end_time": "2021-11-05T21:34:27.561034",
          "exception": false,
          "start_time": "2021-11-05T21:34:27.525332",
          "status": "completed"
        },
        "tags": [],
        "id": "f807c8f1"
      },
      "source": [
        "The following code encode the selected columns."
      ],
      "id": "f807c8f1"
    },
    {
      "cell_type": "code",
      "metadata": {
        "execution": {
          "iopub.execute_input": "2021-11-05T21:34:27.637041Z",
          "iopub.status.busy": "2021-11-05T21:34:27.635878Z",
          "iopub.status.idle": "2021-11-05T21:34:27.766743Z",
          "shell.execute_reply": "2021-11-05T21:34:27.766110Z"
        },
        "papermill": {
          "duration": 0.170411,
          "end_time": "2021-11-05T21:34:27.766954",
          "exception": false,
          "start_time": "2021-11-05T21:34:27.596543",
          "status": "completed"
        },
        "tags": [],
        "id": "45b20ef2"
      },
      "source": [
        "# PREPROCESSING-3\n",
        "from sklearn.preprocessing import OrdinalEncoder\n",
        "_CATEGORICAL_COLS = ['MSZoning', 'Street', 'Alley', 'LotShape', 'LandContour', 'Utilities', 'LotConfig', 'LandSlope', 'Neighborhood', 'Condition1', 'Condition2', 'BldgType', 'HouseStyle', 'RoofStyle', 'RoofMatl', 'Exterior1st', 'Exterior2nd', 'MasVnrType', 'ExterQual', 'ExterCond', 'Foundation', 'BsmtQual', 'BsmtCond', 'BsmtExposure', 'BsmtFinType1', 'BsmtFinType2', 'Heating', 'HeatingQC', 'CentralAir', 'Electrical', 'KitchenQual', 'Functional', 'FireplaceQu', 'GarageType', 'GarageFinish', 'GarageQual', 'GarageCond', 'PavedDrive', 'PoolQC', 'Fence', 'MiscFeature', 'SaleType', 'SaleCondition']\n",
        "_ohe = OrdinalEncoder(handle_unknown=\"use_encoded_value\", unknown_value=-1)\n",
        "df_train[_CATEGORICAL_COLS] = pd.DataFrame(_ohe.fit_transform(df_train[_CATEGORICAL_COLS]), columns=_CATEGORICAL_COLS)\n",
        "df_test[_CATEGORICAL_COLS] = pd.DataFrame(_ohe.transform(df_test[_CATEGORICAL_COLS]), columns=_CATEGORICAL_COLS)"
      ],
      "id": "45b20ef2",
      "execution_count": 10,
      "outputs": []
    },
    {
      "cell_type": "markdown",
      "metadata": {
        "papermill": {
          "duration": 0.035323,
          "end_time": "2021-11-05T21:34:27.839478",
          "exception": false,
          "start_time": "2021-11-05T21:34:27.804155",
          "status": "completed"
        },
        "tags": [],
        "id": "5e0c1d97"
      },
      "source": [
        "## Numeric to Scale"
      ],
      "id": "5e0c1d97"
    },
    {
      "cell_type": "markdown",
      "metadata": {
        "papermill": {
          "duration": 0.03574,
          "end_time": "2021-11-05T21:34:27.912578",
          "exception": false,
          "start_time": "2021-11-05T21:34:27.876838",
          "status": "completed"
        },
        "tags": [],
        "id": "b6f4efff"
      },
      "source": [
        "In the given input dataset there are <b>37 columns </b> with numeric values as follows where we can convert those values to scale through [log1p](https://numpy.org/doc/stable/reference/generated/numpy.log1p.html)."
      ],
      "id": "b6f4efff"
    },
    {
      "cell_type": "code",
      "metadata": {
        "execution": {
          "iopub.execute_input": "2021-11-05T21:34:28.068858Z",
          "iopub.status.busy": "2021-11-05T21:34:28.068012Z",
          "iopub.status.idle": "2021-11-05T21:34:28.091174Z",
          "shell.execute_reply": "2021-11-05T21:34:28.090454Z"
        },
        "papermill": {
          "duration": 0.069081,
          "end_time": "2021-11-05T21:34:28.091344",
          "exception": false,
          "start_time": "2021-11-05T21:34:28.022263",
          "status": "completed"
        },
        "tags": [],
        "id": "eda1446e"
      },
      "source": [
        "# PREPROCESSING-4\n",
        "import numpy as np\n",
        "_NUMERIC_COLS_TO_SCALE = ['MSSubClass', 'LotFrontage', 'LotArea', 'OverallQual', 'OverallCond', 'YearBuilt', 'YearRemodAdd', 'MasVnrArea', 'BsmtFinSF1', 'BsmtFinSF2', 'BsmtUnfSF', 'TotalBsmtSF', '1stFlrSF', '2ndFlrSF', 'LowQualFinSF', 'GrLivArea', 'BsmtFullBath', 'BsmtHalfBath', 'FullBath', 'HalfBath', 'BedroomAbvGr', 'KitchenAbvGr', 'TotRmsAbvGrd', 'Fireplaces', 'GarageYrBlt', 'GarageCars', 'GarageArea', 'WoodDeckSF', 'OpenPorchSF', 'EnclosedPorch', '3SsnPorch', 'ScreenPorch', 'PoolArea', 'MiscVal', 'MoSold', 'YrSold', 'SalePrice']\n",
        "for _col in _NUMERIC_COLS_TO_SCALE:\n",
        "    df_train[_col] = np.log1p(df_train[_col])\n",
        "    if _col in df_test:\n",
        "        df_test[_col] = np.log1p(df_test[_col])"
      ],
      "id": "eda1446e",
      "execution_count": 11,
      "outputs": []
    },
    {
      "cell_type": "code",
      "metadata": {
        "execution": {
          "iopub.execute_input": "2021-11-05T21:34:28.244205Z",
          "iopub.status.busy": "2021-11-05T21:34:28.243374Z",
          "iopub.status.idle": "2021-11-05T21:34:28.249244Z",
          "shell.execute_reply": "2021-11-05T21:34:28.249877Z"
        },
        "papermill": {
          "duration": 0.050374,
          "end_time": "2021-11-05T21:34:28.250094",
          "exception": false,
          "start_time": "2021-11-05T21:34:28.199720",
          "status": "completed"
        },
        "tags": [],
        "id": "b21104ad"
      },
      "source": [
        "# DETACH TARGET\n",
        "train_df_feature = df_train.drop(['SalePrice'], axis=1)\n",
        "train_df_target =df_train['SalePrice']\n",
        "test_df_feature = df_test"
      ],
      "id": "b21104ad",
      "execution_count": 12,
      "outputs": []
    },
    {
      "cell_type": "markdown",
      "metadata": {
        "papermill": {
          "duration": 0.03534,
          "end_time": "2021-11-05T21:34:28.393917",
          "exception": false,
          "start_time": "2021-11-05T21:34:28.358577",
          "status": "completed"
        },
        "tags": [],
        "id": "5c48e64f"
      },
      "source": [
        "## Model: CatBoostRegressor\n"
      ],
      "id": "5c48e64f"
    },
    {
      "cell_type": "code",
      "metadata": {
        "id": "d-pd-3YOp1v2"
      },
      "source": [
        "pip install catboost"
      ],
      "id": "d-pd-3YOp1v2",
      "execution_count": null,
      "outputs": []
    },
    {
      "cell_type": "code",
      "metadata": {
        "execution": {
          "iopub.execute_input": "2021-11-05T21:34:28.472073Z",
          "iopub.status.busy": "2021-11-05T21:34:28.471261Z",
          "iopub.status.idle": "2021-11-05T21:34:32.887309Z",
          "shell.execute_reply": "2021-11-05T21:34:32.887921Z"
        },
        "papermill": {
          "duration": 4.458589,
          "end_time": "2021-11-05T21:34:32.888141",
          "exception": false,
          "start_time": "2021-11-05T21:34:28.429552",
          "status": "completed"
        },
        "tags": [],
        "id": "90d412c1"
      },
      "source": [
        "# MODEL\n",
        "import numpy as np\n",
        "from catboost import CatBoostRegressor\n",
        "model = CatBoostRegressor()\n",
        "model.fit(train_df_feature, train_df_target)\n",
        "y_pred = model.predict(test_df_feature)"
      ],
      "id": "90d412c1",
      "execution_count": null,
      "outputs": []
    },
    {
      "cell_type": "code",
      "metadata": {
        "execution": {
          "iopub.execute_input": "2021-11-05T21:34:32.983634Z",
          "iopub.status.busy": "2021-11-05T21:34:32.982880Z",
          "iopub.status.idle": "2021-11-05T21:34:32.987560Z",
          "shell.execute_reply": "2021-11-05T21:34:32.986865Z"
        },
        "papermill": {
          "duration": 0.054663,
          "end_time": "2021-11-05T21:34:32.987718",
          "exception": false,
          "start_time": "2021-11-05T21:34:32.933055",
          "status": "completed"
        },
        "tags": [],
        "id": "81036004"
      },
      "source": [
        "# INVERSE TARGET\n",
        "import numpy as np\n",
        "if 'test_df_target' in locals():\n",
        "    test_df_target = np.expm1(test_df_target)\n",
        "y_pred = np.expm1(y_pred)"
      ],
      "id": "81036004",
      "execution_count": 18,
      "outputs": []
    },
    {
      "cell_type": "markdown",
      "metadata": {
        "papermill": {
          "duration": 0.04513,
          "end_time": "2021-11-05T21:34:33.077235",
          "exception": false,
          "start_time": "2021-11-05T21:34:33.032105",
          "status": "completed"
        },
        "tags": [],
        "id": "4af9dfd6"
      },
      "source": [
        "# Submission File\n"
      ],
      "id": "4af9dfd6"
    },
    {
      "cell_type": "code",
      "metadata": {
        "execution": {
          "iopub.execute_input": "2021-11-05T21:34:33.169160Z",
          "iopub.status.busy": "2021-11-05T21:34:33.168432Z",
          "iopub.status.idle": "2021-11-05T21:34:33.186431Z",
          "shell.execute_reply": "2021-11-05T21:34:33.185724Z"
        },
        "papermill": {
          "duration": 0.065274,
          "end_time": "2021-11-05T21:34:33.186604",
          "exception": false,
          "start_time": "2021-11-05T21:34:33.121330",
          "status": "completed"
        },
        "tags": [],
        "id": "755e48e0"
      },
      "source": [
        "# SUBMISSION\n",
        "submission = pd.DataFrame(columns=['Id'], data=test_df_submission_columns)\n",
        "submission['SalePrice'] =y_pred\n",
        "submission.to_csv(\"submission.csv\", index=False)"
      ],
      "id": "755e48e0",
      "execution_count": 19,
      "outputs": []
    }
  ]
}