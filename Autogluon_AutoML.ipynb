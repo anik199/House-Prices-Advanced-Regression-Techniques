{
  "nbformat": 4,
  "nbformat_minor": 0,
  "metadata": {
    "colab": {
      "name": "Autogluon_AutoML.ipynb",
      "private_outputs": true,
      "provenance": [],
      "authorship_tag": "ABX9TyPj8VnLfDD40UFayTjkow6O",
      "include_colab_link": true
    },
    "kernelspec": {
      "name": "python3",
      "display_name": "Python 3"
    },
    "language_info": {
      "name": "python"
    }
  },
  "cells": [
    {
      "cell_type": "markdown",
      "metadata": {
        "id": "view-in-github",
        "colab_type": "text"
      },
      "source": [
        "<a href=\"https://colab.research.google.com/github/anik199/House_Prices_Advanced_Regression/blob/main/Autogluon_AutoML.ipynb\" target=\"_parent\"><img src=\"https://colab.research.google.com/assets/colab-badge.svg\" alt=\"Open In Colab\"/></a>"
      ]
    },
    {
      "cell_type": "code",
      "metadata": {
        "id": "IOeVofGI6ybk"
      },
      "source": [
        "import numpy as np\n",
        "import pandas as pd"
      ],
      "execution_count": null,
      "outputs": []
    },
    {
      "cell_type": "code",
      "metadata": {
        "id": "VBy-V3oz7Nsn"
      },
      "source": [
        "## define configuration\n",
        "PATH_TRAIN = '/content/train.csv'\n",
        "PATH_TEST = '/content/test.csv'\n",
        "\n",
        "PATH_AUTOGLUON_SUBMISSION = 'submission_autogluon.csv'\n",
        "PATH_EVALML_SUBMISSION = 'submission_evalml.csv'\n",
        "PATH_FLAML_SUBMISSION = 'submission_flaml.csv'\n",
        "PATH_H2OAML_SUBMISSION = 'submission_h2oaml.csv'\n",
        "PATH_LAML_SUBMISSION = 'submission_laml.csv'\n",
        "\n",
        "MAX_MODEL_RUNTIME_MINS = 15\n",
        "MAX_MODEL_RUNTIME_SECS = MAX_MODEL_RUNTIME_MINS * 60"
      ],
      "execution_count": null,
      "outputs": []
    },
    {
      "cell_type": "code",
      "metadata": {
        "id": "WxeK2iE0-Ajx"
      },
      "source": [
        "pip install datatable"
      ],
      "execution_count": null,
      "outputs": []
    },
    {
      "cell_type": "code",
      "metadata": {
        "id": "EBEhhDkG7OuM"
      },
      "source": [
        "## prepare data\n",
        "import gc\n",
        "import os\n",
        "import shutil\n",
        "import datatable as dt\n",
        "from pathlib import Path\n",
        "import warnings\n",
        "\n",
        "warnings.filterwarnings('ignore')\n",
        "\n",
        "train = dt.fread(PATH_TRAIN)[:100000, :]\n",
        "test = dt.fread(PATH_TEST)\n",
        "\n",
        "target = train['SalePrice'].to_numpy().ravel()\n",
        "test_ids = test['Id']\n",
        "\n",
        "del train[:, ['Id', 'SalePrice']]\n",
        "test = test[:, train.names]"
      ],
      "execution_count": null,
      "outputs": []
    },
    {
      "cell_type": "code",
      "metadata": {
        "id": "RpWPSwQM7bKl"
      },
      "source": [
        "! pip install delayed"
      ],
      "execution_count": null,
      "outputs": []
    },
    {
      "cell_type": "code",
      "metadata": {
        "id": "f-T2yXCO7ea0"
      },
      "source": [
        "## install packages\n",
        "!python3 -m pip install -q \"mxnet<2.0.0\"\n",
        "!python3 -m pip install -q autogluon\n",
        "!python3 -m pip install -q -U graphviz\n",
        "!python3 -m pip install -q scikit-learn==0.24.2"
      ],
      "execution_count": null,
      "outputs": []
    },
    {
      "cell_type": "code",
      "metadata": {
        "id": "72nLGp8j7hV9"
      },
      "source": [
        "## import packages\n",
        "from autogluon.tabular import TabularPredictor"
      ],
      "execution_count": null,
      "outputs": []
    },
    {
      "cell_type": "code",
      "metadata": {
        "id": "4VeMimE77kGb"
      },
      "source": [
        "## run model\n",
        "train['SalePrice'] = dt.Frame(target)\n",
        "\n",
        "model_autogluon = TabularPredictor(label='SalePrice')\n",
        "model_autogluon.fit(train_data=train.to_pandas(), excluded_model_types=['KNN'], time_limit=MAX_MODEL_RUNTIME_SECS)\n",
        "\n",
        "del train['SalePrice']"
      ],
      "execution_count": null,
      "outputs": []
    },
    {
      "cell_type": "code",
      "metadata": {
        "id": "rwpZ6lCZ7m7O"
      },
      "source": [
        "## generate predictions\n",
        "preds_autogluon = model_autogluon.predict_proba(test.to_pandas())"
      ],
      "execution_count": null,
      "outputs": []
    },
    {
      "cell_type": "code",
      "metadata": {
        "id": "2-cUNVSJ7rIu"
      },
      "source": [
        "## create submission\n",
        "submission = dt.Frame(Id=test_ids, SalePrice=dt.Frame(preds_autogluon))\n",
        "submission.to_csv('submission.csv')\n",
        "submission.head()"
      ],
      "execution_count": null,
      "outputs": []
    },
    {
      "cell_type": "code",
      "metadata": {
        "id": "cFxUYAvl7tkC"
      },
      "source": [
        "## clear memory\n",
        "shutil.rmtree('AutogluonModels')\n",
        "del model_autogluon\n",
        "\n",
        "gc.collect()"
      ],
      "execution_count": null,
      "outputs": []
    }
  ]
}