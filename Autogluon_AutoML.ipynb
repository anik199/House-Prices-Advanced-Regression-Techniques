{
  "nbformat": 4,
  "nbformat_minor": 0,
  "metadata": {
    "colab": {
      "name": "Autogluon_AutoML.ipynb",
      "private_outputs": true,
      "provenance": [],
      "authorship_tag": "ABX9TyMP7Dj7HCo6mzGxNN2qx4bh",
      "include_colab_link": true
    },
    "kernelspec": {
      "name": "python3",
      "display_name": "Python 3"
    },
    "language_info": {
      "name": "python"
    }
  },
  "cells": [
    {
      "cell_type": "markdown",
      "metadata": {
        "id": "view-in-github",
        "colab_type": "text"
      },
      "source": [
        "<a href=\"https://colab.research.google.com/github/anik199/House_Prices_Advanced_Regression/blob/main/Autogluon_AutoML.ipynb\" target=\"_parent\"><img src=\"https://colab.research.google.com/assets/colab-badge.svg\" alt=\"Open In Colab\"/></a>"
      ]
    },
    {
      "cell_type": "code",
      "metadata": {
        "id": "IOeVofGI6ybk"
      },
      "source": [
        "import numpy as np\n",
        "import pandas as pd"
      ],
      "execution_count": null,
      "outputs": []
    },
    {
      "cell_type": "code",
      "metadata": {
        "id": "VBy-V3oz7Nsn"
      },
      "source": [
        "## define configuration\n",
        "PATH_TRAIN = '/content/train.csv'\n",
        "PATH_TEST = '/content/test.csv'\n",
        "\n",
        "PATH_AUTOGLUON_SUBMISSION = 'submission_autogluon.csv'\n",
        "PATH_EVALML_SUBMISSION = 'submission_evalml.csv'\n",
        "PATH_FLAML_SUBMISSION = 'submission_flaml.csv'\n",
        "PATH_H2OAML_SUBMISSION = 'submission_h2oaml.csv'\n",
        "PATH_LAML_SUBMISSION = 'submission_laml.csv'\n",
        "\n",
        "MAX_MODEL_RUNTIME_MINS = 15\n",
        "MAX_MODEL_RUNTIME_SECS = MAX_MODEL_RUNTIME_MINS * 60"
      ],
      "execution_count": null,
      "outputs": []
    },
    {
      "cell_type": "code",
      "metadata": {
        "id": "WxeK2iE0-Ajx"
      },
      "source": [
        "pip install datatable"
      ],
      "execution_count": null,
      "outputs": []
    },
    {
      "cell_type": "code",
      "metadata": {
        "id": "EBEhhDkG7OuM"
      },
      "source": [
        "## prepare data\n",
        "import gc\n",
        "import os\n",
        "import shutil\n",
        "import datatable as dt\n",
        "from pathlib import Path\n",
        "import warnings\n",
        "\n",
        "warnings.filterwarnings('ignore')\n",
        "\n",
        "train = dt.fread(PATH_TRAIN)[:100000, :]\n",
        "test = dt.fread(PATH_TEST)\n",
        "\n",
        "target = train['SalePrice'].to_numpy().ravel()\n",
        "test_ids = test['Id']\n",
        "\n",
        "del train[:, ['Id', 'SalePrice']]\n",
        "test = test[:, train.names]"
      ],
      "execution_count": null,
      "outputs": []
    },
    {
      "cell_type": "code",
      "metadata": {
        "id": "RpWPSwQM7bKl"
      },
      "source": [
        "! pip install delayed"
      ],
      "execution_count": null,
      "outputs": []
    },
    {
      "cell_type": "markdown",
      "metadata": {
        "id": "-rsL7ZSbKqn8"
      },
      "source": [
        "###1. AutoGluon ML"
      ]
    },
    {
      "cell_type": "code",
      "metadata": {
        "id": "f-T2yXCO7ea0"
      },
      "source": [
        "## install packages\n",
        "!python3 -m pip install -q \"mxnet<2.0.0\"\n",
        "!python3 -m pip install -q autogluon\n",
        "!python3 -m pip install -q -U graphviz\n",
        "!python3 -m pip install -q scikit-learn==0.24.2"
      ],
      "execution_count": null,
      "outputs": []
    },
    {
      "cell_type": "code",
      "metadata": {
        "id": "72nLGp8j7hV9"
      },
      "source": [
        "## import packages\n",
        "from autogluon.tabular import TabularPredictor"
      ],
      "execution_count": null,
      "outputs": []
    },
    {
      "cell_type": "code",
      "metadata": {
        "id": "4VeMimE77kGb"
      },
      "source": [
        "## run model\n",
        "train['SalePrice'] = dt.Frame(target)\n",
        "\n",
        "model_autogluon = TabularPredictor(label='SalePrice')\n",
        "model_autogluon.fit(train_data=train.to_pandas(), excluded_model_types=['KNN'], time_limit=MAX_MODEL_RUNTIME_SECS)\n",
        "\n",
        "del train['SalePrice']"
      ],
      "execution_count": null,
      "outputs": []
    },
    {
      "cell_type": "code",
      "metadata": {
        "id": "rwpZ6lCZ7m7O"
      },
      "source": [
        "## generate predictions\n",
        "preds_autogluon = model_autogluon.predict_proba(test.to_pandas())"
      ],
      "execution_count": null,
      "outputs": []
    },
    {
      "cell_type": "code",
      "metadata": {
        "id": "2-cUNVSJ7rIu"
      },
      "source": [
        "## create submission\n",
        "submission = dt.Frame(Id=test_ids, SalePrice=dt.Frame(preds_autogluon))\n",
        "submission.to_csv('submission.csv')\n",
        "submission.head()"
      ],
      "execution_count": null,
      "outputs": []
    },
    {
      "cell_type": "code",
      "metadata": {
        "id": "cFxUYAvl7tkC"
      },
      "source": [
        "## clear memory\n",
        "shutil.rmtree('AutogluonModels')\n",
        "del model_autogluon\n",
        "\n",
        "gc.collect()"
      ],
      "execution_count": null,
      "outputs": []
    },
    {
      "cell_type": "markdown",
      "metadata": {
        "id": "X99ngqLSaVd0"
      },
      "source": [
        "###AutoGluonML Score 0.12939"
      ]
    },
    {
      "cell_type": "markdown",
      "metadata": {
        "id": "W5lWgCNJK7WS"
      },
      "source": [
        "##2. H2o AutoML"
      ]
    },
    {
      "cell_type": "code",
      "metadata": {
        "id": "PKRAX3sxK-89"
      },
      "source": [
        "!pip install h2o\n"
      ],
      "execution_count": null,
      "outputs": []
    },
    {
      "cell_type": "code",
      "metadata": {
        "id": "dCbZZnNWM8vD"
      },
      "source": [
        "# import packages\n",
        "import h2o\n",
        "from h2o.automl import H2OAutoML"
      ],
      "execution_count": null,
      "outputs": []
    },
    {
      "cell_type": "code",
      "metadata": {
        "id": "YKRTqtn5LGRm"
      },
      "source": [
        "## prepare data\n",
        "h2o.init()\n",
        "\n",
        "h2o_train = h2o.H2OFrame(train.to_pandas())\n",
        "h2o_test = h2o.H2OFrame(test.to_pandas())\n",
        "\n",
        "h2o_train['SalePrice'] = h2o.H2OFrame(target).asfactor()"
      ],
      "execution_count": null,
      "outputs": []
    },
    {
      "cell_type": "code",
      "metadata": {
        "id": "bfVp15_cLJ28"
      },
      "source": [
        "#run model\n",
        "features = [x for x in h2o_train.columns if x != 'SalePrice']\n",
        "\n",
        "model_h2o = H2OAutoML(stopping_metric='AUC', max_runtime_secs=MAX_MODEL_RUNTIME_SECS)\n",
        "model_h2o.train(x=features, y='SalePrice', training_frame=h2o_train)"
      ],
      "execution_count": null,
      "outputs": []
    },
    {
      "cell_type": "code",
      "metadata": {
        "id": "NyjjS8aWMXl5"
      },
      "source": [
        "#generate predictions\n",
        "preds_h2o = model_h2o.leader.predict(h2o_test).as_data_frame()"
      ],
      "execution_count": null,
      "outputs": []
    },
    {
      "cell_type": "code",
      "metadata": {
        "id": "5DdeI1ZtLS2e"
      },
      "source": [
        "#create submission\n",
        "submission = dt.Frame(Id=test_ids, SalePrice=dt.Frame(preds_h2o['predict']))\n",
        "submission.to_csv('submission1.csv')\n",
        "submission.head()"
      ],
      "execution_count": null,
      "outputs": []
    },
    {
      "cell_type": "markdown",
      "metadata": {
        "id": "Vmi-89dMZW9F"
      },
      "source": [
        "###H2o AutoML Score 0.34716 (Very Bad)"
      ]
    },
    {
      "cell_type": "markdown",
      "metadata": {
        "id": "lmgKycLvS0h_"
      },
      "source": [
        "##3. LightAuto ML"
      ]
    },
    {
      "cell_type": "code",
      "metadata": {
        "id": "e1LUNJxfS3-0"
      },
      "source": [
        "## install packages\n",
        "!python3 -m pip install -q lightautoml\n",
        "!python3 -m pip install -q -U torch\n",
        "!python3 -m pip install -q -U torchvision"
      ],
      "execution_count": null,
      "outputs": []
    },
    {
      "cell_type": "code",
      "metadata": {
        "id": "IzUnI4O0S8Df"
      },
      "source": [
        "## import packages\n",
        "from lightautoml.automl.presets.tabular_presets import TabularAutoML\n",
        "from lightautoml.tasks import Task"
      ],
      "execution_count": null,
      "outputs": []
    },
    {
      "cell_type": "code",
      "metadata": {
        "id": "HWfbnpEQTB37"
      },
      "source": [
        "## run model\n",
        "train['SalePrice'] = dt.Frame(target)\n",
        "\n",
        "model_laml = TabularAutoML(task = Task('reg'), timeout = MAX_MODEL_RUNTIME_SECS)\n",
        "model_laml.fit_predict(train_data=train.to_pandas(), roles={'target': 'SalePrice'})\n",
        "\n",
        "del train['SalePrice']"
      ],
      "execution_count": null,
      "outputs": []
    },
    {
      "cell_type": "code",
      "metadata": {
        "id": "XBT_rxVeTIbC"
      },
      "source": [
        "## generate predictions\n",
        "preds_laml = model_laml.predict(test.to_pandas()).data.ravel()"
      ],
      "execution_count": null,
      "outputs": []
    },
    {
      "cell_type": "code",
      "metadata": {
        "id": "vhDFmjt_TQ1S"
      },
      "source": [
        "## create submission\n",
        "submission = dt.Frame(Id=test_ids, SalePrice=preds_laml)\n",
        "submission.to_csv('submission2.csv')\n",
        "submission.head()"
      ],
      "execution_count": null,
      "outputs": []
    },
    {
      "cell_type": "markdown",
      "metadata": {
        "id": "GOtjSYCqY04E"
      },
      "source": [
        "###LightAutoML Score 0.12966"
      ]
    }
  ]
}